{
 "cells": [
  {
   "cell_type": "markdown",
   "id": "0e5114df",
   "metadata": {},
   "source": [
    "All the experiments i can conduct here\n",
    "\n",
    "all the experimets with respect to model loading, embedding, if something is not working directly i can check inside this notebook\n",
    "\n",
    "first i can run code here then keep it in my perticular folder"
   ]
  },
  {
   "cell_type": "markdown",
   "id": "2e2fe806",
   "metadata": {},
   "source": []
  }
 ],
 "metadata": {
  "language_info": {
   "name": "python"
  }
 },
 "nbformat": 4,
 "nbformat_minor": 5
}
